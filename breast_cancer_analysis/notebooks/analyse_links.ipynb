{
 "cells": [
  {
   "cell_type": "code",
   "execution_count": null,
   "id": "d803532a",
   "metadata": {},
   "outputs": [
    {
     "ename": "ModuleNotFoundError",
     "evalue": "No module named 'omegaconf'",
     "output_type": "error",
     "traceback": [
      "\u001b[0;31m---------------------------------------------------------------------------\u001b[0m",
      "\u001b[0;31mModuleNotFoundError\u001b[0m                       Traceback (most recent call last)",
      "Cell \u001b[0;32mIn[1], line 2\u001b[0m\n\u001b[1;32m      1\u001b[0m \u001b[38;5;28;01mimport\u001b[39;00m \u001b[38;5;21;01mpandas\u001b[39;00m \u001b[38;5;28;01mas\u001b[39;00m \u001b[38;5;21;01mpd\u001b[39;00m\n\u001b[0;32m----> 2\u001b[0m \u001b[38;5;28;01mfrom\u001b[39;00m \u001b[38;5;21;01momegaconf\u001b[39;00m\u001b[38;5;21;01m.\u001b[39;00m\u001b[38;5;21;01momegaconf\u001b[39;00m \u001b[38;5;28;01mimport\u001b[39;00m OmegaConf\n\u001b[1;32m      4\u001b[0m config \u001b[38;5;241m=\u001b[39m OmegaConf\u001b[38;5;241m.\u001b[39mload(\u001b[38;5;124m\"\u001b[39m\u001b[38;5;124m../config/config.yaml\u001b[39m\u001b[38;5;124m\"\u001b[39m)\n",
      "\u001b[0;31mModuleNotFoundError\u001b[0m: No module named 'omegaconf'"
     ]
    }
   ],
   "source": [
    "import pandas as pd\n",
    "#from omegaconf.omegaconf import OmegaConf\n",
    "\n",
    "#config = OmegaConf.load(\"../config/config.yaml\")"
   ]
  },
  {
   "cell_type": "code",
   "execution_count": 4,
   "id": "e7652e0a",
   "metadata": {},
   "outputs": [
    {
     "name": "stdout",
     "output_type": "stream",
     "text": [
      "All nodes for xai node when xai is in first column\n",
      "             0     1\n",
      "10139379  7868  8607\n",
      "10139380  7868  1207\n",
      "10139381  7868  7870\n",
      "10139382  7868  1211\n",
      "10139383  7868  7871\n",
      "...        ...   ...\n",
      "10141036  7868  8565\n",
      "10141037  7868  8566\n",
      "10141038  7868  4411\n",
      "10141039  7868  8567\n",
      "10141040  7868  8568\n",
      "\n",
      "[1662 rows x 2 columns]\n",
      "\n",
      "All nodes for xai node when xai is in second column\n",
      "             0     1\n",
      "20644        3  7868\n",
      "36164        6  7868\n",
      "39004     7142  7868\n",
      "108247    2629  7868\n",
      "117233    2630  7868\n",
      "...        ...   ...\n",
      "10109186  3446  7868\n",
      "10117922  9129  7868\n",
      "10126129  7867  7868\n",
      "10131456  3447  7868\n",
      "10134264  8740  7868\n",
      "\n",
      "[1461 rows x 2 columns]\n"
     ]
    }
   ],
   "source": [
    "xai_node = 7868\n",
    "base_path = \"../data_corr_0.33_negative_10000/\"\n",
    "p_out_genes = base_path + \"out_genes_bc.csv\"\n",
    "p_out_links = base_path + \"/out_links_bc.csv\"\n",
    "df_out_genes = pd.read_csv(p_out_genes, sep=\" \", header=None)\n",
    "df_out_links = pd.read_csv(p_out_links, sep=\" \", header=None)\n",
    "\n",
    "df_xai_node_links_first = df_out_links[df_out_links.iloc[:, 0] == xai_node]\n",
    "df_xai_node_links_second = df_out_links[df_out_links.iloc[:, 1] == xai_node]\n",
    "\n",
    "print(\"All nodes for xai node when xai is in first column\")\n",
    "print(df_xai_node_links_first)\n",
    "print()\n",
    "print(\"All nodes for xai node when xai is in second column\")\n",
    "print(df_xai_node_links_second)\n",
    "df_xai_node_links_first.to_csv(f\"{base_path}/df_xai_node_links_1_{xai_node}.csv\", index=None)\n",
    "df_xai_node_links_second.to_csv(f\"{base_path}/df_xai_node_links_2_{xai_node}.csv\", index=None)\n"
   ]
  },
  {
   "cell_type": "code",
   "execution_count": null,
   "id": "2d96523f",
   "metadata": {},
   "outputs": [],
   "source": []
  },
  {
   "cell_type": "code",
   "execution_count": null,
   "id": "fa6a57a5",
   "metadata": {},
   "outputs": [],
   "source": []
  },
  {
   "cell_type": "code",
   "execution_count": null,
   "id": "620d2914",
   "metadata": {},
   "outputs": [],
   "source": []
  }
 ],
 "metadata": {
  "kernelspec": {
   "display_name": "nanodiag_biomarker_gnn",
   "language": "python",
   "name": "python3"
  },
  "language_info": {
   "codemirror_mode": {
    "name": "ipython",
    "version": 3
   },
   "file_extension": ".py",
   "mimetype": "text/x-python",
   "name": "python",
   "nbconvert_exporter": "python",
   "pygments_lexer": "ipython3",
   "version": "3.11.0"
  }
 },
 "nbformat": 4,
 "nbformat_minor": 5
}
